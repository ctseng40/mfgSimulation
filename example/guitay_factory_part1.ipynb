{
 "cells": [
  {
   "cell_type": "code",
   "execution_count": 6,
   "metadata": {},
   "outputs": [
    {
     "name": "stdout",
     "output_type": "stream",
     "text": [
      "Dispatch has 117 bodies and necks ready to go!\n"
     ]
    }
   ],
   "source": [
    "import simpy\n",
    "\n",
    "wood_capacity = 1000\n",
    "initial_wood = 500\n",
    "dispatch_capacity = 500\n",
    "\n",
    "class Guitar_Factory:\n",
    "    \n",
    "    def __init__(self, env):\n",
    "        self.wood = simpy.Container(env, capacity = wood_capacity, init = initial_wood)\n",
    "        self.dispatch = simpy.Container(env ,capacity = dispatch_capacity, init = 0)\n",
    "    \n",
    "def body_maker(env, quitar_factory):\n",
    "    while True:\n",
    "        yield guitar_factory.wood.get(1)\n",
    "        body_time = 1\n",
    "        yield env.timeout(body_time)\n",
    "        yield quitar_factory.dispatch.put(1)\n",
    "        \n",
    "def neck_maker(env, quitar_factory):\n",
    "    while True:\n",
    "        yield quitar_factory.wood.get(1)\n",
    "        neck_time = 1\n",
    "        yield env.timeout(neck_time)\n",
    "        yield quitar_factory.dispatch.put(2)\n",
    "\n",
    "            \n",
    "#working hours\n",
    "hours = 8\n",
    "#bussiness days\n",
    "days = 5\n",
    "#total working time (hours)\n",
    "total_time = hours * days\n",
    "\n",
    "env = simpy.Environment()\n",
    "guitar_factory = Guitar_Factory(env)\n",
    "\n",
    "body_maker_process = env.process(body_maker(env, guitar_factory))\n",
    "neck_maker_process = env.process(neck_maker(env, guitar_factory))\n",
    "\n",
    "env.run(until = total_time)\n",
    "print(f'Dispatch has %d bodies and necks ready to go!' % guitar_factory.dispatch.level)\n",
    "\n",
    "    "
   ]
  }
 ],
 "metadata": {
  "kernelspec": {
   "display_name": "Python 3",
   "language": "python",
   "name": "python3"
  },
  "language_info": {
   "codemirror_mode": {
    "name": "ipython",
    "version": 3
   },
   "file_extension": ".py",
   "mimetype": "text/x-python",
   "name": "python",
   "nbconvert_exporter": "python",
   "pygments_lexer": "ipython3",
   "version": "3.7.0"
  }
 },
 "nbformat": 4,
 "nbformat_minor": 4
}
