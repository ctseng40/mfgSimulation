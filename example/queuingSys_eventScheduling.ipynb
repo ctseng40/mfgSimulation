{
 "cells": [
  {
   "cell_type": "code",
   "execution_count": 8,
   "metadata": {},
   "outputs": [],
   "source": [
    "import simpy\n",
    "import numpy as np\n",
    "\n",
    "class Simulation:\n",
    "    def __init__(self):\n",
    "        self.num_in_system = 0\n",
    "        \n",
    "        self.clock = 0.0\n",
    "        \n",
    "        self.t_arrival = self.generate_interarrival()\n",
    "        self.t_depart=float('inf')\n",
    "        \n",
    "        self.num_arrivals = 0\n",
    "        self.num_departs = 0\n",
    "        self.total_wait = 0.0\n",
    "        \n",
    "    def advance_time(self):\n",
    "        t_event = min(self.t_arrival, self.t_depart)\n",
    "        \n",
    "        self.total_wait += self.num_in_system*(t_event - self.clock)\n",
    "        \n",
    "        self.clock = t_event\n",
    "        \n",
    "        if self.t_arrival <= self.t_depart:\n",
    "            self.handle_arrival_event()\n",
    "        else:\n",
    "            self.handle_depart_event()\n",
    "        \n",
    "    def handle_arrival_event(self):\n",
    "        self.num_in_system += 1\n",
    "        self.num_arrivals += 1\n",
    "        if self.num_in_system <=1:\n",
    "            self.t_depart = self.clock + self.generate_service()\n",
    "        self.t_arrival = self.clock + self.generate_interarrival()\n",
    "            \n",
    "    \n",
    "    def handle_depart_event(self):\n",
    "        self.num_in_system -= 1\n",
    "        self.num_departs += 1\n",
    "        if self.num_in_system > 0:\n",
    "            self.t_depart = self.clock + self.generate_service()\n",
    "        else: \n",
    "            self.t_separt = float('inf')\n",
    "    \n",
    "    def generate_interarrival(self):\n",
    "        return np.random.exponential(1./3)\n",
    "    \n",
    "    def generate_service(self):\n",
    "        return np.random.exponential(1./4) # serve 4 customers per min\n",
    "\n",
    "np.random.seed(0)    \n",
    "\n",
    "s = Simulation()\n"
   ]
  },
  {
   "cell_type": "code",
   "execution_count": 9,
   "metadata": {},
   "outputs": [],
   "source": [
    "for i in range(100):\n",
    "    s.advance_time()"
   ]
  },
  {
   "cell_type": "code",
   "execution_count": 10,
   "metadata": {},
   "outputs": [
    {
     "data": {
      "text/plain": [
       "0.8354329354281498"
      ]
     },
     "execution_count": 10,
     "metadata": {},
     "output_type": "execute_result"
    }
   ],
   "source": [
    "s.t_arrival"
   ]
  },
  {
   "cell_type": "code",
   "execution_count": null,
   "metadata": {},
   "outputs": [],
   "source": []
  }
 ],
 "metadata": {
  "kernelspec": {
   "display_name": "Python 3",
   "language": "python",
   "name": "python3"
  },
  "language_info": {
   "codemirror_mode": {
    "name": "ipython",
    "version": 3
   },
   "file_extension": ".py",
   "mimetype": "text/x-python",
   "name": "python",
   "nbconvert_exporter": "python",
   "pygments_lexer": "ipython3",
   "version": "3.6.12"
  }
 },
 "nbformat": 4,
 "nbformat_minor": 4
}
