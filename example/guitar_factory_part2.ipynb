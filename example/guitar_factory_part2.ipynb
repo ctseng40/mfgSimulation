{
 "cells": [
  {
   "cell_type": "code",
   "execution_count": 1,
   "metadata": {},
   "outputs": [
    {
     "name": "stdout",
     "output_type": "stream",
     "text": [
      "Pre paint has 0 bodies and necks ready to be painted\n",
      "Post paint has 0 bodies and necks ready to be assembled\n",
      "Dispatch has 117 guitars ready to go!\n",
      "----------------------------------\n",
      "SIMULATION COMPLETED\n"
     ]
    }
   ],
   "source": [
    "import simpy\n",
    "\n",
    "#containers\n",
    "    #wood\n",
    "wood_capacity = 1000\n",
    "initial_wood = 500\n",
    "    #dispatch\n",
    "dispatch_capacity = 500\n",
    "    #electronic\n",
    "electronic_capacity = 100\n",
    "initial_electronic = 100\n",
    "    #paint\n",
    "pre_paint_capacity = 100\n",
    "post_paint_capacity = 200\n",
    "\n",
    "class Guitar_Factory:\n",
    "    def __init__(self, env):\n",
    "        self.wood = simpy.Container(env, capacity = wood_capacity, init = initial_wood)\n",
    "        self.electronic = simpy.Container(env, capacity = electronic_capacity, init = initial_electronic)\n",
    "        self.pre_paint = simpy.Container(env, capacity = pre_paint_capacity, init = 0)\n",
    "        self.post_paint = simpy.Container(env, capacity = post_paint_capacity, init = 0)\n",
    "        self.dispatch = simpy.Container(env ,capacity = dispatch_capacity, init = 0)\n",
    "    \n",
    "def body_maker(env, guitar_factory):\n",
    "    while True:\n",
    "        yield guitar_factory.wood.get(1)\n",
    "        body_time = 1\n",
    "        yield env.timeout(body_time)\n",
    "        yield guitar_factory.dispatch.put(1)\n",
    "\n",
    "def neck_maker(env, guitar_factory):\n",
    "    while True:\n",
    "        yield guitar_factory.wood.get(1)\n",
    "        neck_time = 1\n",
    "        yield env.timeout(neck_time)\n",
    "        yield guitar_factory.dispatch.put(2)\n",
    "        \n",
    "def painter(env, quitar_factory):\n",
    "    while True:\n",
    "        yield quitar_factory.pre_paint.get(10)\n",
    "        paint_time = 4\n",
    "        yield env.timeout(paint_time)\n",
    "        yield quitar_factory.post_paint.put(10)\n",
    "\n",
    "def assembler(env, guitar_factory):\n",
    "    while True:\n",
    "        yield guitar_factory.post_paint.get(2)\n",
    "        yield quitar_factory.electronic.get(1)\n",
    "        assembling_time = 1\n",
    "        yield env.timeout(assembling_time)\n",
    "        yield guitar_factory.dispatch.put(1)\n",
    "\n",
    "#working hours\n",
    "hours = 8\n",
    "#business days\n",
    "days = 5\n",
    "#total working time (hours)\n",
    "total_time = hours * days\n",
    "\n",
    "env = simpy.Environment()\n",
    "guitar_factory = Guitar_Factory(env)\n",
    "\n",
    "body_maker_process = env.process(body_maker(env, guitar_factory))\n",
    "neck_maker_process = env.process(neck_maker(env, guitar_factory))\n",
    "painter_process = env.process(painter(env, guitar_factory))\n",
    "assembler_process = env.process(assembler(env, guitar_factory))\n",
    "\n",
    "env.run(until = total_time)\n",
    "\n",
    "print(f'Pre paint has %d bodies and necks ready to be painted' % guitar_factory.pre_paint.level)\n",
    "print(f'Post paint has %d bodies and necks ready to be assembled' % guitar_factory.post_paint.level)\n",
    "print(f'Dispatch has %d guitars ready to go!' % guitar_factory.dispatch.level)\n",
    "print(f'----------------------------------')\n",
    "print(f'SIMULATION COMPLETED')"
   ]
  },
  {
   "cell_type": "code",
   "execution_count": null,
   "metadata": {},
   "outputs": [],
   "source": []
  }
 ],
 "metadata": {
  "kernelspec": {
   "display_name": "Python 3",
   "language": "python",
   "name": "python3"
  },
  "language_info": {
   "codemirror_mode": {
    "name": "ipython",
    "version": 3
   },
   "file_extension": ".py",
   "mimetype": "text/x-python",
   "name": "python",
   "nbconvert_exporter": "python",
   "pygments_lexer": "ipython3",
   "version": "3.7.0"
  }
 },
 "nbformat": 4,
 "nbformat_minor": 4
}
